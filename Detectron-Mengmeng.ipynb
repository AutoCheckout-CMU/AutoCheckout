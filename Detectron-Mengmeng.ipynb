{
 "cells": [
  {
   "cell_type": "code",
   "execution_count": null,
   "metadata": {},
   "outputs": [],
   "source": [
    "# install dependencies: (use cu100 because colab is on CUDA 10.0)\n",
    "# !pip install -U torch==1.4+cu100 torchvision==0.5+cu100 -f https://download.pytorch.org/whl/torch_stable.html \n",
    "# !pip install cython pyyaml==5.1\n",
    "# !pip install -U 'git+https://github.com/cocodataset/cocoapi.git#subdirectory=PythonAPI'\n",
    "import torch, torchvision\n",
    "print ('torch',torch.__version__)\n",
    "print ('torchvision',torchvision.__version__)\n",
    "!gcc --version\n",
    "# opencv is pre-installed on colab"
   ]
  },
  {
   "cell_type": "code",
   "execution_count": null,
   "metadata": {},
   "outputs": [],
   "source": [
    "# !pip install detectron2 -f https://dl.fbaipublicfiles.com/detectron2/wheels/cu100/index.html\n",
    "\n",
    "# Mengmeng: cu100 means cuda v10.0? If have problem please install from source:\n",
    "# https://github.com/facebookresearch/detectron2/blob/master/INSTALL.md"
   ]
  },
  {
   "cell_type": "code",
   "execution_count": null,
   "metadata": {},
   "outputs": [],
   "source": [
    "# You may need to restart your runtime prior to this, to let your installation take effect\n",
    "# Some basic setup:\n",
    "# Setup detectron2 logger\n",
    "import detectron2\n",
    "from detectron2.utils.logger import setup_logger\n",
    "setup_logger()\n",
    "\n",
    "# import some common libraries\n",
    "import numpy as np\n",
    "import cv2\n",
    "import random\n",
    "# from google.colab.patches import cv2_imshow\n",
    "\n",
    "# import some common detectron2 utilities\n",
    "from detectron2 import model_zoo\n",
    "from detectron2.engine import DefaultPredictor\n",
    "from detectron2.config import get_cfg\n",
    "from detectron2.utils.visualizer import Visualizer\n",
    "from detectron2.data import MetadataCatalog\n",
    "\n",
    "import matplotlib.pyplot as plt"
   ]
  },
  {
   "cell_type": "code",
   "execution_count": null,
   "metadata": {},
   "outputs": [],
   "source": [
    "# setup model\n",
    "cfg = get_cfg()\n",
    "# add project-specific config (e.g., TensorMask) here if you're not running a model in detectron2's core library\n",
    "cfg.merge_from_file(model_zoo.get_config_file(\"COCO-InstanceSegmentation/mask_rcnn_R_50_FPN_3x.yaml\"))\n",
    "cfg.MODEL.ROI_HEADS.SCORE_THRESH_TEST = 0.5  # set threshold for this model\n",
    "# Find a model from detectron2's model zoo. You can use the https://dl.fbaipublicfiles... url as well\n",
    "cfg.MODEL.WEIGHTS = model_zoo.get_checkpoint_url(\"COCO-InstanceSegmentation/mask_rcnn_R_50_FPN_3x.yaml\")\n",
    "predictor = DefaultPredictor(cfg)"
   ]
  },
  {
   "cell_type": "markdown",
   "metadata": {},
   "source": [
    "# Detect a picture"
   ]
  },
  {
   "cell_type": "code",
   "execution_count": null,
   "metadata": {},
   "outputs": [],
   "source": [
    "# !wget http://images.cocodataset.org/val2017/000000439715.jpg -O data/test.jpg\n",
    "im = cv2.imread(\"/home/ubuntu/git-clones/AutoCheckout-CMU-F4/data/cps-test-videos/192.168.1.100_2020-01-28_22-24-06/frame0.jpg\")\n",
    "# mengmeng: wrong color https://www.pyimagesearch.com/2014/11/03/display-matplotlib-rgb-image/\n",
    "# plt.imshow(im)\n",
    "# plt.show()\n",
    "\n",
    "im = cv2.cvtColor(im, cv2.COLOR_BGR2RGB)\n",
    "plt.imshow(im)\n",
    "plt.show()"
   ]
  },
  {
   "cell_type": "markdown",
   "metadata": {},
   "source": [
    "Then, we create a detectron2 config and a detectron2 DefaultPredictor to run inference on this image."
   ]
  },
  {
   "cell_type": "code",
   "execution_count": null,
   "metadata": {},
   "outputs": [],
   "source": [
    "# look at the outputs. See https://detectron2.readthedocs.io/tutorials/models.html#model-output-format for specification\n",
    "outputs = predictor(im)\n",
    "# outputs[\"instances\"].pred_classes\n",
    "# outputs[\"instances\"].pred_boxes\n",
    "\n",
    "# We can use `Visualizer` to draw the predictions on the image.\n",
    "v = Visualizer(im[:, :, ::-1], MetadataCatalog.get(cfg.DATASETS.TRAIN[0]), scale=1.2)\n",
    "v = v.draw_instance_predictions(outputs[\"instances\"].to(\"cpu\"))\n",
    "plt.figure(figsize = (20,10))\n",
    "plt.imshow(v.get_image()[:, :, ::-1])"
   ]
  },
  {
   "cell_type": "markdown",
   "metadata": {},
   "source": [
    "# Detect a video live"
   ]
  },
  {
   "cell_type": "code",
   "execution_count": null,
   "metadata": {},
   "outputs": [],
   "source": [
    "import PIL.Image\n",
    "import io\n",
    "from IPython.display import clear_output, Image, display, HTML\n",
    "import numpy as np\n",
    "import cv2\n",
    "import time\n",
    "\n",
    "def showarray(a, fmt='jpeg'):\n",
    "    a = np.uint8(a)\n",
    "    f = io.BytesIO()\n",
    "    PIL.Image.fromarray(a).save(f, fmt)\n",
    "    display(Image(data=f.getvalue()))\n",
    "    \n",
    "# cam = cv2.VideoCapture(0)\n",
    "cam = cv2.VideoCapture('/home/ubuntu/git-clones/AutoCheckout-CMU-F4/data/cps-test-videos/video-clip.mp4')\n",
    "# cam = cv2.VideoCapture('/home/ubuntu/git-clones/AutoCheckout-CMU-F4/data/cps-test-videos/192.168.1.100_2020-01-28_22-24-06.mp4')\n",
    "frame_count = 0\n",
    "start_time = time.time()\n",
    "success = True\n",
    "# out = cv2.VideoWriter('data/cps-test-videos/video-clip-output.mp4',cv2.VideoWriter_fourcc(*'mp4v'), 10, (1280,720))\n",
    "try:\n",
    "    while(success):\n",
    "        # Capture frame-by-frame\n",
    "        success, frame = cam.read()\n",
    "# Convert the image from OpenCV BGR format to matplotlib RGB format\n",
    "        # to display the image\n",
    "        frame = cv2.cvtColor(frame, cv2.COLOR_BGR2RGB)\n",
    "        \n",
    "        outputs = predictor(frame)\n",
    "        # We can use `Visualizer` to draw the predictions on the image.\n",
    "        v = Visualizer(frame[:, :, ::-1], MetadataCatalog.get(cfg.DATASETS.TRAIN[0]), scale=1.2)\n",
    "        v = v.draw_instance_predictions(outputs[\"instances\"].to(\"cpu\"))\n",
    "#         plt.figure(figsize = (20,10))\n",
    "#         plt.imshow(v.get_image()[:, :, ::-1])\n",
    "        \n",
    "        showarray(v.get_image()[:, :, ::-1])\n",
    "#         out.write(v.get_image()[:, :, ::-1])\n",
    "        frame_count += 1\n",
    "        elapsed_time = time.time() - start_time # seconds\n",
    "        print (int(frame_count/elapsed_time), 'fps')\n",
    "# Display the frame until new frame is available\n",
    "        clear_output(wait=True)\n",
    "        \n",
    "        \n",
    "except KeyboardInterrupt:\n",
    "    cam.release()\n",
    "#     out.release()\n",
    "    print (\"Stream stopped\")"
   ]
  },
  {
   "cell_type": "markdown",
   "metadata": {},
   "source": [
    "# Detect a video offline"
   ]
  },
  {
   "cell_type": "code",
   "execution_count": null,
   "metadata": {},
   "outputs": [],
   "source": [
    "# !git clone https://github.com/facebookresearch/detectron2\n",
    "# !cd detectron2 \n",
    "!cd ../detectron2 && python3 demo/demo.py --config-file configs/COCO-PanopticSegmentation/panoptic_fpn_R_101_3x.yaml --video-input /home/ubuntu/git-clones/AutoCheckout-CMU-F4/data/cps-test-videos/video-clip.mp4 --confidence-threshold 0.6 --output /home/ubuntu/git-clones/AutoCheckout-CMU-F4/data/cps-test-videos/video-clip-output.mkv \\\n",
    "  --opts MODEL.WEIGHTS detectron2://COCO-PanopticSegmentation/panoptic_fpn_R_101_3x/139514519/model_final_cafdb1.pkl"
   ]
  },
  {
   "cell_type": "code",
   "execution_count": null,
   "metadata": {},
   "outputs": [],
   "source": [
    "# display a video\n",
    "from IPython.display import Video\n",
    "\n",
    "Video('data/cps-test-videos/video-clip.mp4')"
   ]
  },
  {
   "cell_type": "code",
   "execution_count": null,
   "metadata": {},
   "outputs": [],
   "source": []
  }
 ],
 "metadata": {
  "kernelspec": {
   "display_name": "Python 3",
   "language": "python",
   "name": "python3"
  },
  "language_info": {
   "codemirror_mode": {
    "name": "ipython",
    "version": 3
   },
   "file_extension": ".py",
   "mimetype": "text/x-python",
   "name": "python",
   "nbconvert_exporter": "python",
   "pygments_lexer": "ipython3",
   "version": "3.6.9"
  }
 },
 "nbformat": 4,
 "nbformat_minor": 4
}
