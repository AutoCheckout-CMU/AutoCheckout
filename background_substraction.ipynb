{
 "cells": [
  {
   "cell_type": "code",
   "execution_count": null,
   "metadata": {},
   "outputs": [],
   "source": [
    "import numpy as np\n",
    "import cv2\n",
    "from platform import python_version\n",
    "import PIL.Image\n",
    "import io\n",
    "from IPython.display import clear_output, Image, display, HTML\n",
    "from time import sleep\n",
    "\n",
    "print(python_version())\n",
    "print (cv2.__version__)\n",
    "\n",
    "class BackgroundSubtractor:\n",
    "    def __init__(self):\n",
    "        self.knn = cv2.createBackgroundSubtractorKNN()\n",
    "        self.mog2 = cv2.createBackgroundSubtractorMOG2()\n",
    "        \n",
    "    def runKNN(self, frame):\n",
    "        return self.knn.apply(frame)\n",
    "\n",
    "    def runMOG2(self, frame):\n",
    "        return self.mog2.apply(frame)\n",
    "\n",
    "    def run(self, frame):\n",
    "        return self.runKNN(frame)\n",
    "    \n",
    "def showarray(a, fmt='jpeg'):\n",
    "    a = np.uint8(a)\n",
    "    f = io.BytesIO()\n",
    "    PIL.Image.fromarray(a).save(f, fmt)\n",
    "    display(Image(data=f.getvalue()))\n",
    "\n",
    "backSub = BackgroundSubtractor()\n",
    "# capture = cv2.VideoCapture(0)\n",
    "# capture = cv2.VideoCapture('data/cps-test-videos/192.168.1.100_2020-01-28_22-24-06.mp4')\n",
    "capture = cv2.VideoCapture('data/cps-test-videos/192.168.1.103_2020-01-28_22-24-07.mp4')\n",
    "out = cv2.VideoWriter('output.avi',cv2.VideoWriter_fourcc('M','J','P','G'), 30, (1280,720))\n",
    "\n",
    "if not capture.isOpened:\n",
    "    print('Unable to open: ' + args.input)\n",
    "    exit(0)\n",
    "\n",
    "while True:\n",
    "    ret, frame_img = capture.read()\n",
    "    if frame_img is None:\n",
    "        break\n",
    "    frame_img = cv2.cvtColor(frame_img, cv2.COLOR_BGR2RGB)\n",
    "    \n",
    "    background_mask = backSub.run(frame_img)\n",
    "    showarray(background_mask)\n",
    "    background_removed_img = cv2.bitwise_and(frame_img, frame_img, mask=background_mask)\n",
    "#     showarray(background_removed_img)\n",
    "    background_removed_img = cv2.cvtColor(background_removed_img, cv2.COLOR_RGB2BGR)\n",
    "    out.write(background_removed_img)\n",
    "#     sleep(0.05)\n",
    "    clear_output(wait=True)\n",
    "\n",
    "out.release()"
   ]
  },
  {
   "cell_type": "code",
   "execution_count": null,
   "metadata": {},
   "outputs": [],
   "source": []
  },
  {
   "cell_type": "code",
   "execution_count": null,
   "metadata": {},
   "outputs": [],
   "source": []
  }
 ],
 "metadata": {
  "kernelspec": {
   "display_name": "Python 3",
   "language": "python",
   "name": "python3"
  },
  "language_info": {
   "codemirror_mode": {
    "name": "ipython",
    "version": 3
   },
   "file_extension": ".py",
   "mimetype": "text/x-python",
   "name": "python",
   "nbconvert_exporter": "python",
   "pygments_lexer": "ipython3",
   "version": "3.7.2"
  }
 },
 "nbformat": 4,
 "nbformat_minor": 2
}
